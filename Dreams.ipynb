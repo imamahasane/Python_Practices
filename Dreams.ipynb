{
 "cells": [
  {
   "cell_type": "code",
   "execution_count": 1,
   "id": "a92d402e",
   "metadata": {},
   "outputs": [
    {
     "name": "stdout",
     "output_type": "stream",
     "text": [
      "Name: Mst Fahmida\n",
      "\tInterested In:\n",
      "\t1. Data Science\n",
      "\t2. Machine Learning\n",
      "\t3. Artificial intelligence\n",
      "\t4. Computer vision\n"
     ]
    }
   ],
   "source": [
    "name = \"Mst Fahmida\"\n",
    "intarested = ['Data Science', 'Machine Learning', \n",
    "              'Artificial intelligence', 'Computer vision']\n",
    "print(f'Name: {name}\\n\\tInterested In:')\n",
    "\n",
    "for i, valu in enumerate(intarested):\n",
    "    print(f'\\t{i + 1}. {valu}')"
   ]
  },
  {
   "cell_type": "code",
   "execution_count": null,
   "id": "7c5f7d57",
   "metadata": {},
   "outputs": [],
   "source": []
  }
 ],
 "metadata": {
  "kernelspec": {
   "display_name": "Python 3 (ipykernel)",
   "language": "python",
   "name": "python3"
  },
  "language_info": {
   "codemirror_mode": {
    "name": "ipython",
    "version": 3
   },
   "file_extension": ".py",
   "mimetype": "text/x-python",
   "name": "python",
   "nbconvert_exporter": "python",
   "pygments_lexer": "ipython3",
   "version": "3.8.8"
  }
 },
 "nbformat": 4,
 "nbformat_minor": 5
}
